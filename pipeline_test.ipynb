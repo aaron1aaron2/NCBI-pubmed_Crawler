{
 "cells": [
  {
   "cell_type": "code",
   "execution_count": 65,
   "metadata": {},
   "outputs": [],
   "source": [
    "import os\n",
    "import re\n",
    "import requests\n",
    "from bs4 import BeautifulSoup"
   ]
  },
  {
   "cell_type": "code",
   "execution_count": 3,
   "metadata": {},
   "outputs": [],
   "source": [
    "def get_url(keyword, page=1, start_year='', end_year='', page_size=''):\n",
    "    \"\"\"透過 & 串接搜尋條件，生成對應的 URL\"\"\"\n",
    "    url = f\"https://pubmed.ncbi.nlm.nih.gov/?term={keyword}&format=abstract\"\n",
    "    if page != 1:\n",
    "        url = url + f\"&page=2\"\n",
    "    if (start_year!='') & (end_year!=''):\n",
    "        url = url + f\"&filter=years.{start_year}-{end_year}\"\n",
    "    if page_size != '':\n",
    "        url = url + f\"&size={page_size}\" # 10、20、50、100、200\n",
    "    return url"
   ]
  },
  {
   "cell_type": "code",
   "execution_count": 4,
   "metadata": {},
   "outputs": [
    {
     "name": "stdout",
     "output_type": "stream",
     "text": [
      "https://pubmed.ncbi.nlm.nih.gov/?term=IVF&format=abstract&size=50\n"
     ]
    }
   ],
   "source": [
    "url = get_url('IVF', page_size=50)\n",
    "print(url)"
   ]
  },
  {
   "cell_type": "code",
   "execution_count": 5,
   "metadata": {},
   "outputs": [],
   "source": [
    "# get page from url\n",
    "headers = {'user-agent': 'Mozilla/5.0 (Windows NT 10.0; Win64; x64) AppleWebKit/537.36 (KHTML, like Gecko) Chrome/80.0.3987.122 Safari/537.36'}\n",
    "respond = requests.get(url, headers = headers)\n",
    "soup = BeautifulSoup(respond.text)"
   ]
  },
  {
   "cell_type": "code",
   "execution_count": 8,
   "metadata": {},
   "outputs": [
    {
     "name": "stdout",
     "output_type": "stream",
     "text": [
      "results amount 29,997\n"
     ]
    }
   ],
   "source": [
    "# get results-amount\n",
    "results_amount = soup.find(\"div\", class_=\"results-amount\")\n",
    "try:\n",
    "    total_articles = results_amount.span.text\n",
    "    print(f'Results amount {total_articles}')\n",
    "except:\n",
    "    print('Cannot find results amount')"
   ]
  },
  {
   "cell_type": "code",
   "execution_count": 9,
   "metadata": {},
   "outputs": [
    {
     "name": "stdout",
     "output_type": "stream",
     "text": [
      "article in page 50\n"
     ]
    }
   ],
   "source": [
    "# get articles in page (主要爬取的物件)\n",
    "article_ls = soup.find_all(class_=\"article-overview\")\n",
    "print('article in page', len(article_ls))"
   ]
  },
  {
   "cell_type": "code",
   "execution_count": 67,
   "metadata": {},
   "outputs": [
    {
     "name": "stdout",
     "output_type": "stream",
     "text": [
      "Total page: 600\n"
     ]
    }
   ],
   "source": [
    "total_page = soup.find(\"label\", class_=\"of-total-pages\")\n",
    "try:\n",
    "    total_page = re.match('of (\\d+)', total_page.text)[1]\n",
    "    print(f'Total page: {total_page}')\n",
    "except:\n",
    "    print('Cannot find results amount')"
   ]
  },
  {
   "cell_type": "code",
   "execution_count": 17,
   "metadata": {},
   "outputs": [
    {
     "data": {
      "text/plain": [
       "['The role of Natural Cycle IVF in assisted reproduction',\n",
       " 'Emotions and ethical considerations of women undergoing IVF-treatments',\n",
       " 'Physicochemical properties of follicular fluid and their relation to in vitro fertilization (IVF) outcome',\n",
       " 'Genomic imprinting: a gene regulatory phenomenon with important implications for micromanipulation-assisted in vitro fertilization (IVF)',\n",
       " 'Lesbian shared biological motherhood: the ethics of IVF with reception of oocytes from partner']"
      ]
     },
     "execution_count": 17,
     "metadata": {},
     "output_type": "execute_result"
    }
   ],
   "source": [
    "# 題目\n",
    "[i.find(\"h1\", class_=\"heading-title\").text.strip() for i in article_ls][:5]"
   ]
  },
  {
   "cell_type": "code",
   "execution_count": 20,
   "metadata": {},
   "outputs": [
    {
     "data": {
      "text/plain": [
       "['Review\\n\\n\\n      Best Pract Res Clin Endocrinol Metab\\n    Actions\\n              Search in PubMed\\n            \\n              Search in NLM Catalog\\n            \\n              Add to Search\\n            . 2019 Feb;33(1):35-45.\\n\\n\\n        doi: 10.1016/j.beem.2018.10.005.\\n      \\n\\n        Epub 2018 Nov 9.',\n",
       " 'HEC Forum\\n    Actions\\n              Search in PubMed\\n            \\n              Search in NLM Catalog\\n            \\n              Add to Search\\n            . 2011 Dec;23(4):281-93.\\n\\n\\n        doi: 10.1007/s10730-011-9159-4.',\n",
       " 'Review\\n\\n\\n      J In Vitro Fert Embryo Transf\\n    Actions\\n              Search in PubMed\\n            \\n              Search in NLM Catalog\\n            \\n              Add to Search\\n            . 1990 Apr;7(2):67-73.\\n\\n\\n        doi: 10.1007/BF01135577.',\n",
       " 'Review\\n\\n\\n      J In Vitro Fert Embryo Transf\\n    Actions\\n              Search in PubMed\\n            \\n              Search in NLM Catalog\\n            \\n              Add to Search\\n            . 1991 Feb;8(1):5-14.\\n\\n\\n        doi: 10.1007/BF01131585.',\n",
       " 'Med Health Care Philos\\n    Actions\\n              Search in PubMed\\n            \\n              Search in NLM Catalog\\n            \\n              Add to Search\\n            . 2014 Aug;17(3):347-55.\\n\\n\\n        doi: 10.1007/s11019-013-9538-5.']"
      ]
     },
     "execution_count": 20,
     "metadata": {},
     "output_type": "execute_result"
    }
   ],
   "source": [
    "# 引用\n",
    "[i.find(\"div\", class_=\"article-citation\").text.strip()  for i in article_ls][:5]"
   ]
  },
  {
   "cell_type": "code",
   "execution_count": 16,
   "metadata": {},
   "outputs": [
    {
     "data": {
      "text/plain": [
       "['Review', '', 'Review', 'Review', '']"
      ]
     },
     "execution_count": 16,
     "metadata": {},
     "output_type": "execute_result"
    }
   ],
   "source": [
    "# 類型\n",
    "[i.find(\"div\", class_=\"publication-type\").text \n",
    "    if (i.find(\"div\", class_=\"publication-type\") != None) else '' \n",
    "    for i in article_ls ][:5]"
   ]
  },
  {
   "cell_type": "code",
   "execution_count": 26,
   "metadata": {},
   "outputs": [
    {
     "data": {
      "text/plain": [
       "['Michael von Wolff\\xa0\\n                1',\n",
       " 'Sofia Kaliarnta\\xa0\\n                1\\n              ,',\n",
       " 'B Fisch\\xa0\\n                1\\n              ,',\n",
       " 'J W Gordon\\xa0\\n                1\\n              ,',\n",
       " 'Kristin Zeiler\\xa0\\n                1\\n              ,']"
      ]
     },
     "execution_count": 26,
     "metadata": {},
     "output_type": "execute_result"
    }
   ],
   "source": [
    "# 作者\n",
    "[i.find(\"span\", class_=\"authors-list-item\").text.strip()\n",
    "    if (i.find(\"span\", class_=\"authors-list-item\") != None) else '' \n",
    "    for i in article_ls ][:5]"
   ]
  },
  {
   "cell_type": "code",
   "execution_count": 27,
   "metadata": {},
   "outputs": [
    {
     "data": {
      "text/plain": [
       "[\"Affiliation\\n          \\n\\n1 University Women's Hospital, Division of Gynaecological Endocrinology and Reproductive Medicine, Inselspital, University Hospital, Berne, Switzerland. Electronic address: Michael.vonWolff@insel.ch.\",\n",
       " 'Affiliation\\n          \\n\\n1 Philosophy Department, Faculty of Technology, Policy and Management, Delft University of Technology, The Netherlands. S.Kaliarnta@tudelft.nl',\n",
       " 'Affiliation\\n          \\n\\n1 Department of Obstetrics and Gynecology, Beilinson Medical Center, Sackler School of Medicine, Tel-Aviv University, Petah-Tikvah, Israel.',\n",
       " 'Affiliation\\n          \\n\\n1 Molecular Biology, Mt. Sinai Medical Center, New York, New York 10029.',\n",
       " 'Affiliation\\n          \\n\\n1 Department of Medical and Health Sciences, Linköping University, Linköping, Sweden, Kristin.Zeiler@liu.se.']"
      ]
     },
     "execution_count": 27,
     "metadata": {},
     "output_type": "execute_result"
    }
   ],
   "source": [
    "# 聯絡資訊\n",
    "[i.find(\"div\", class_=\"affiliations\").text.strip()\n",
    "    if (i.find(\"div\", class_=\"affiliations\") != None) else '' \n",
    "    for i in article_ls ][:5]"
   ]
  },
  {
   "cell_type": "code",
   "execution_count": 41,
   "metadata": {},
   "outputs": [
    {
     "data": {
      "text/plain": [
       "['PMID:\\n    \\n  \\n30473207||DOI:\\n    \\n  \\n\\n      10.1016/j.beem.2018.10.005',\n",
       " 'PMID:\\n    \\n  \\n21822635||PMCID:\\n    \\n  \\n\\n      PMC3258403||DOI:\\n    \\n  \\n\\n      10.1007/s10730-011-9159-4',\n",
       " 'PMID:\\n    \\n  \\n2193072||DOI:\\n    \\n  \\n\\n      10.1007/BF01135577',\n",
       " 'PMID:\\n    \\n  \\n2016564||DOI:\\n    \\n  \\n\\n      10.1007/BF01131585',\n",
       " 'PMID:\\n    \\n  \\n24395218||DOI:\\n    \\n  \\n\\n      10.1007/s11019-013-9538-5']"
      ]
     },
     "execution_count": 41,
     "metadata": {},
     "output_type": "execute_result"
    }
   ],
   "source": [
    "# 識別碼 \n",
    "['||'.join([xid.text.strip() for xid in i.find(\"ul\", class_=\"identifiers\").find_all(\"li\")])\n",
    "    if (i.find(\"ul\", class_=\"identifiers\") != None) else '' \n",
    "    for i in article_ls][:5]"
   ]
  },
  {
   "cell_type": "code",
   "execution_count": 42,
   "metadata": {},
   "outputs": [
    {
     "data": {
      "text/plain": [
       "['Natural Cycle IVF (NC-IVF) with and without modifications is being increasingly performed. NC-IVF and conventional gonadotropin-stimulated IVF (cIVF) should not be understood as competing treatments, but as complementary treatments with different target groups and to some extent other indications. NC-IVF is particularly interesting for couples who wish to save money, wish a treatment with as few risks as possible and for women who would like to avoid selection and cryopreservation of embryos. NC-IVF therefore contributes to the concept of individualized and patient-oriented therapy. The time to pregnancy is slightly longer than with conventional IVF. NC-IVF is particularly suitable for younger women and for women with a very low ovarian reserve. In this article, the principles of NC-IVF, i.e. monofollicular IVF without gonadotropin stimulation, are described and the technical differences to cIVF, advantages and disadvantages, perinatal outcome and indications for NC-IVF are highlightened.',\n",
       " 'Women who suffer from fertility issues often use in vitro fertilization (IVF) to realize their wish to have children. However, IVF has its own set of strict administration rules that leave the women physically and emotionally exhausted. Feeling alienated and frustrated, many IVF users turn to internet IVF-centered forums to share their stories and to find information and support. Based on the observation of Dutch and Greek IVF forums and a selection of 109 questionnaires from Dutch and Greek IVF forum users, we investigate the reasons why users of IVF participate in online communities centered on IVF, their need for emotional expression and support, and how they experience and use the information and support they receive through their participation in the online community. We argue that the emotional concerns expressed in such forums should be taken into account by health care ethics committees for IVF-related matters in order to promote more patient-oriented care and support for women going through IVF.',\n",
       " 'Despite the limited data that are available concerning FF physicochemical properties, the following conclusions can be drawn. (1) FF temperature is lower than ovarian stroma and body temperatures. The physiological significance of this gradient is unknown. (2) Follicular size increases exponentially prior to ovulation. The relationship between FF volume and successful IVF outcome is well established. (3) A highly significant association exists between fertilization (but not embryo cleavage) and FF spectrophotometric absorbance at delta optic density of 455 nm. (4) FF behaves as a non-Newtonian fluid--its viscosity changes at different shear rates. Neither FF viscosity nor its refractive index was found to correlate with the presence of oocytes, their maturation grade, or their fertilizing capacity. (5) FF osmolarity is similar to that of the plasma. There is no information linking variations in FF osmolarity to IVF outcome. (6) FF pH is acidic, probably due to acid mucopolysaccharides. It appears that the intact follicle is capable of buffering any carbon dioxide which diffuses through its wall at the time of intraperitoneal insufflation. The transvaginal aspiration technique eliminates any possible effect of exogenous gas on FF pH. (7) Regarding the intact follicle, it was shown that (a) there is a small potential difference across the follicle wall, and (b) intrafollicular pressure remains steady prior to ovulation. This information may shed some light on mechanisms underlying FF formation and ovulation. No experiments relating these properties to IVF outcome have been performed.',\n",
       " '',\n",
       " 'In vitro fertilization (IVF) with reception of oocytes from partners (ROPA) allows lesbian mothers to share biological motherhood. The gestational mother receives an egg from her partner who becomes the genetic mother. This article examines the ethics of IVF with ROPA with a focus on the welfare of the woman and the resulting child, on whether ROPA qualifies as a \"legitimate\" medical therapy that falls within the goals of medicine, and on the meaning and value attributed to a biologically shared bond between parents and child. We also contrast IVF with ROPA with egg donor IVF for heterosexual couples and intrafamilial live uterus transplantation with IVF, and show how Swedish legislation makes certain ways of sharing biological bonds out of place. In Sweden, IVF with ROPA is illegal, egg donor IVF for heterosexual couples is allowed and practiced as is sperm donor IVF for lesbians, and live uterus transplantation is performed within a research project (though not allowed in regular health care). But is ROPA really ethically more problematic than these other cases? The article argues that IVF with ROPA gives rise to fewer ethical questions than does live uterus transplantation with IVF and, in some cases, egg donor IVF.']"
      ]
     },
     "execution_count": 42,
     "metadata": {},
     "output_type": "execute_result"
    }
   ],
   "source": [
    "# 摘要\n",
    "[i.find(\"div\", class_=\"abstract-content\").text.strip()\n",
    "    if (i.find(\"div\", class_=\"abstract-content\") != None) else '' \n",
    "    for i in article_ls ][:5]"
   ]
  },
  {
   "cell_type": "code",
   "execution_count": 46,
   "metadata": {},
   "outputs": [
    {
     "data": {
      "text/plain": [
       "['Keywords:\\n        \\n      \\n      IVF; Natural Cycle IVF; delivery rate; pregnancy rate.',\n",
       " '',\n",
       " '',\n",
       " '',\n",
       " '']"
      ]
     },
     "execution_count": 46,
     "metadata": {},
     "output_type": "execute_result"
    }
   ],
   "source": [
    "# keyword\n",
    "[i.find(\"strong\", class_=\"sub-title\").parent.text.strip()\n",
    "    if (i.find(\"strong\", class_=\"sub-title\") != None) else '' \n",
    "    for i in article_ls ][:5]"
   ]
  },
  {
   "cell_type": "code",
   "execution_count": 47,
   "metadata": {},
   "outputs": [
    {
     "data": {
      "text/plain": [
       "['Cited by 7\\n              articles',\n",
       " 'Cited by 5\\n              articles||25\\n              references',\n",
       " 'Cited by 7\\n              articles||45\\n              references',\n",
       " '48\\n              references',\n",
       " 'Cited by 2\\n              articles||24\\n              references']"
      ]
     },
     "execution_count": 47,
     "metadata": {},
     "output_type": "execute_result"
    }
   ],
   "source": [
    "# 被引用狀態\n",
    "['||'.join([xid.text.strip() for xid in i.find(\"div\", class_=\"stats\").find_all(\"li\")])\n",
    "    if (i.find(\"div\", class_=\"stats\") != None) else '' \n",
    "    for i in article_ls][:5]"
   ]
  },
  {
   "cell_type": "code",
   "execution_count": 57,
   "metadata": {},
   "outputs": [
    {
     "data": {
      "text/plain": [
       "['Elsevier Science(https://linkinghub.elsevier.com/retrieve/pii/S1521-690X(18)30119-2)',\n",
       " 'Springer(https://dx.doi.org/10.1007/s10730-011-9159-4)||Free PMC article(https://www.ncbi.nlm.nih.gov/pmc/articles/pmid/21822635/)',\n",
       " '',\n",
       " '',\n",
       " 'Springer(https://doi.org/10.1007/s11019-013-9538-5)||Linkoping University Electronic Press(http://liu.diva-portal.org/smash/get/diva2:691759/FULLTEXT01.pdf)']"
      ]
     },
     "execution_count": 57,
     "metadata": {},
     "output_type": "execute_result"
    }
   ],
   "source": [
    "# full text link\n",
    "['||'.join(['{}({})'.format(xid.text.strip(), xid[\"href\"]) for xid in i.find(\"div\", class_=\"full-text-links-list\").find_all(\"a\")])\n",
    "    if (i.find(\"div\", class_=\"full-text-links-list\") != None) else '' \n",
    "    for i in article_ls][:5]"
   ]
  },
  {
   "cell_type": "code",
   "execution_count": 61,
   "metadata": {},
   "outputs": [
    {
     "data": {
      "text/plain": [
       "['https://pubmed.ncbi.nlm.nih.gov/30473207/',\n",
       " 'https://pubmed.ncbi.nlm.nih.gov/21822635/',\n",
       " 'https://pubmed.ncbi.nlm.nih.gov/2193072/',\n",
       " 'https://pubmed.ncbi.nlm.nih.gov/2016564/',\n",
       " 'https://pubmed.ncbi.nlm.nih.gov/24395218/']"
      ]
     },
     "execution_count": 61,
     "metadata": {},
     "output_type": "execute_result"
    }
   ],
   "source": [
    "# paper page url\n",
    "['https://pubmed.ncbi.nlm.nih.gov' + i.find(\"a\", class_=\"details-link\")[\"href\"].strip()\n",
    "    if (i.find(\"a\", class_=\"details-link\") != None) else '' \n",
    "    for i in article_ls ][:5]"
   ]
  },
  {
   "cell_type": "code",
   "execution_count": null,
   "metadata": {},
   "outputs": [],
   "source": []
  }
 ],
 "metadata": {
  "interpreter": {
   "hash": "ca0967755c3266736d86b5034e7d5b5a017d70c9944a0c7e9fbb9e4e61090444"
  },
  "kernelspec": {
   "display_name": "Python 3.7.10 64-bit ('base': conda)",
   "language": "python",
   "name": "python3"
  },
  "language_info": {
   "codemirror_mode": {
    "name": "ipython",
    "version": 3
   },
   "file_extension": ".py",
   "mimetype": "text/x-python",
   "name": "python",
   "nbconvert_exporter": "python",
   "pygments_lexer": "ipython3",
   "version": "3.7.12"
  },
  "orig_nbformat": 4
 },
 "nbformat": 4,
 "nbformat_minor": 2
}
